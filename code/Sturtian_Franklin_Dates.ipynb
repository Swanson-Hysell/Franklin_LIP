{
 "cells": [
  {
   "cell_type": "markdown",
   "metadata": {},
   "source": [
    "# Geochronology from the Franklin LIP and Cryogenian glacial successions"
   ]
  },
  {
   "cell_type": "markdown",
   "metadata": {},
   "source": [
    "## Import scientific python libraries and custom functions\n",
    "\n",
    "The `geochron_functions.py` script in this repository defines custom functions for analysis and plotting. The other imported "
   ]
  },
  {
   "cell_type": "code",
   "execution_count": 1,
   "metadata": {},
   "outputs": [],
   "source": [
    "import matplotlib\n",
    "import matplotlib.pyplot as plt\n",
    "import pandas as pd\n",
    "import numpy as np\n",
    "from scipy import stats\n",
    "from geochron_functions import *\n"
   ]
  },
  {
   "cell_type": "code",
   "execution_count": 2,
   "metadata": {},
   "outputs": [],
   "source": [
    "South_China_color = '#F1C40F'\n",
    "Ethiopia_color = '#E67E22'\n",
    "Laurentia_pre_glacial_color = '#A04000'\n",
    "Laurentia_syn_glacial_color = '#01486e'\n",
    "Oman_syn_glacial_color = '#287fad'\n",
    "Franklin_color = 'red'"
   ]
  },
  {
   "cell_type": "markdown",
   "metadata": {},
   "source": [
    "## Individual zircon dates"
   ]
  },
  {
   "cell_type": "markdown",
   "metadata": {},
   "source": [
    "### Ethiopia - MacLennan et al. 2018"
   ]
  },
  {
   "cell_type": "code",
   "execution_count": 3,
   "metadata": {},
   "outputs": [],
   "source": [
    "SAM_ET_03 = pd.read_csv('../data/geochron/Ethiopia/SAM-ET-03.csv')\n",
    "SAM_ET_03 = SAM_ET_03[SAM_ET_03['include'] == 'yes']\n",
    "SAM_ET_04 = pd.read_csv('../data/geochron/Ethiopia/SAM-ET-04.csv')\n",
    "SAM_ET_04 = SAM_ET_04[SAM_ET_04['include'] == 'yes']\n",
    "T46_102_2Z = pd.read_csv('../data/geochron/Ethiopia/T46-102_2Z.csv')\n",
    "T46_102_2Z = T46_102_2Z[T46_102_2Z['include'] == 'yes']\n",
    "\n",
    "# sort\n",
    "SAM_ET_03.sort_values(by=['206Pb/238U'],\n",
    "                      ascending=[True], inplace=True)\n",
    "SAM_ET_04.sort_values(by=['206Pb/238U'],\n",
    "                      ascending=[True], inplace=True)\n",
    "T46_102_2Z.sort_values(by=['206Pb/238U'],\n",
    "                       ascending=[True], inplace=True)\n",
    "SAM_ET_03.reset_index(inplace=True, drop=True)\n",
    "SAM_ET_04.reset_index(inplace=True, drop=True)\n",
    "T46_102_2Z.reset_index(inplace=True, drop=True)\n",
    "\n",
    "#make dictionaries of weighted means\n",
    "SAM_ET_03_mean = dict(mean=719.58,\n",
    "                      two_sigma=0.56,\n",
    "                      color=Ethiopia_color,\n",
    "                      label='SAM-ET-03 (Ethiopia)')\n",
    "SAM_ET_04_mean = dict(mean=719.68,\n",
    "                      two_sigma=0.46,\n",
    "                      color=Ethiopia_color,\n",
    "                      label='SAM-ET-04 (Ethiopia)')\n",
    "T46_102_2Z_mean = dict(mean=735.25,\n",
    "                      two_sigma=0.25,\n",
    "                      color=Ethiopia_color,\n",
    "                      label='T46_102_2Z (Ethiopia)')"
   ]
  },
  {
   "cell_type": "code",
   "execution_count": 4,
   "metadata": {},
   "outputs": [
    {
     "data": {
      "image/png": "[encoded data removed]",
      "text/plain": [
       "<Figure size 432x288 with 1 Axes>"
      ]
     },
     "metadata": {
      "needs_background": "light"
     },
     "output_type": "display_data"
    },
    {
     "data": {
      "text/plain": [
       "(<Figure size 432x288 with 1 Axes>,\n",
       " <AxesSubplot:ylabel='$^{206}$Pb/$^{238}$U date [Ma]'>)"
      ]
     },
     "execution_count": 4,
     "metadata": {},
     "output_type": "execute_result"
    }
   ],
   "source": [
    "make_dates_plot([SAM_ET_03,SAM_ET_04,T46_102_2Z],\n",
    "                [SAM_ET_03_mean,SAM_ET_04_mean,T46_102_2Z_mean])\n",
    "\n"
   ]
  },
  {
   "cell_type": "markdown",
   "metadata": {},
   "source": [
    "## Ethiopia Monte Carlo Results"
   ]
  },
  {
   "cell_type": "code",
   "execution_count": 5,
   "metadata": {},
   "outputs": [
    {
     "data": {
      "image/png": "[encoded data removed]",
      "text/plain": [
       "<Figure size 432x288 with 1 Axes>"
      ]
     },
     "metadata": {
      "needs_background": "light"
     },
     "output_type": "display_data"
    }
   ],
   "source": [
    "MC_results = np.loadtxt('../data/Geochron/Ethiopia/MC_results_mapped.csv')\n",
    "\n",
    "MC_mean = np.mean(MC_results)\n",
    "MC_2_5 = stats.scoreatpercentile(MC_results, 2.5)\n",
    "MC_97_5 = stats.scoreatpercentile(MC_results, 97.5)\n",
    "\n",
    "fig, ax = plt.subplots()\n",
    "\n",
    "ax.hist(MC_results, bins=20, histtype='stepfilled', color='mediumslateblue', alpha=0.5)\n",
    "ax.axvline(MC_mean, color='mediumslateblue', lw=2)\n",
    "ax.axvline(MC_2_5, color='mediumslateblue', lw=1, ls='--')\n",
    "ax.axvline(MC_97_5, color='mediumslateblue', lw=1, ls='--')\n",
    "ax.set_xlabel('age [Ma]')\n",
    "ax.set_xlim(720,715)\n",
    "\n",
    "plt.show(fig)"
   ]
  },
  {
   "cell_type": "markdown",
   "metadata": {},
   "source": [
    "### Laurentia - Cox et al. (2015)"
   ]
  },
  {
   "cell_type": "code",
   "execution_count": 6,
   "metadata": {},
   "outputs": [],
   "source": [
    "Cox2015 = pd.read_csv('../data/geochron/Laurentia/Cox2015_data.csv')\n",
    "\n",
    "Cox2015.sort_values('206Pb/238U', inplace=True)\n",
    "Cox2015 = Cox2015[Cox2015['include'] == 'yes']\n",
    "Cox2015.reset_index(inplace=True, drop=True)\n"
   ]
  },
  {
   "cell_type": "code",
   "execution_count": 7,
   "metadata": {},
   "outputs": [
    {
     "name": "stdout",
     "output_type": "stream",
     "text": [
      "The weighted mean is:\n",
      "719.4679849208527\n",
      "With a 2sigma error of:\n",
      "0.286111189309946\n",
      "N=\n",
      "6\n"
     ]
    }
   ],
   "source": [
    "F624B_mean_date, F624B_2sigma = weighted_mean_from_df(Cox2015)\n",
    "\n",
    "Cox2015_mean = dict(mean=F624B_mean_date,\n",
    "                    two_sigma=F624B_2sigma,\n",
    "                    color=Laurentia_pre_glacial_color,\n",
    "                    label='F624B (Laurentia)')"
   ]
  },
  {
   "cell_type": "code",
   "execution_count": 8,
   "metadata": {},
   "outputs": [
    {
     "data": {
      "image/png": "[encoded data removed]",
      "text/plain": [
       "<Figure size 432x288 with 1 Axes>"
      ]
     },
     "metadata": {
      "needs_background": "light"
     },
     "output_type": "display_data"
    },
    {
     "data": {
      "text/plain": [
       "(<Figure size 432x288 with 1 Axes>,\n",
       " <AxesSubplot:ylabel='$^{206}$Pb/$^{238}$U date [Ma]'>)"
      ]
     },
     "execution_count": 8,
     "metadata": {},
     "output_type": "execute_result"
    }
   ],
   "source": [
    "make_dates_plot([Cox2015],\n",
    "                [Cox2015_mean])"
   ]
  },
  {
   "cell_type": "markdown",
   "metadata": {},
   "source": [
    "## Laurentia - Macdonald et al. (2010)"
   ]
  },
  {
   "cell_type": "code",
   "execution_count": 9,
   "metadata": {},
   "outputs": [],
   "source": [
    "Macdonald2010 = pd.read_csv(\n",
    "    '../data/geochron/Laurentia/Macdonald2010_data.csv')\n",
    "Macdonald2010 = Macdonald2010[Macdonald2010['include'] == 'yes']\n",
    "\n",
    "F837B = Macdonald2010[Macdonald2010['sample'] == 'F837B'].copy()\n",
    "F840A = Macdonald2010[Macdonald2010['sample'] == 'F840A'].copy()\n",
    "F837B.sort_values('206Pb/238U', inplace=True)\n",
    "F840A.sort_values('206Pb/238U', inplace=True)\n",
    "F837B.reset_index(inplace=True, drop=True)\n",
    "F840A.reset_index(inplace=True, drop=True)"
   ]
  },
  {
   "cell_type": "code",
   "execution_count": 10,
   "metadata": {},
   "outputs": [
    {
     "name": "stdout",
     "output_type": "stream",
     "text": [
      "The weighted mean is:\n",
      "717.4260864753657\n",
      "With a 2sigma error of:\n",
      "0.1377575222401132\n",
      "N=\n",
      "7\n"
     ]
    }
   ],
   "source": [
    "F837B_mean_date, F837B_2sigma = weighted_mean_from_df(F837B)\n",
    "\n",
    "F837B_mean = dict(mean=F837B_mean_date,\n",
    "                    two_sigma=F837B_2sigma,\n",
    "                    color=Laurentia_pre_glacial_color,\n",
    "                    label='F837B (Laurentia)')"
   ]
  },
  {
   "cell_type": "code",
   "execution_count": 11,
   "metadata": {},
   "outputs": [
    {
     "name": "stdout",
     "output_type": "stream",
     "text": [
      "The weighted mean is:\n",
      "716.4705578001001\n",
      "With a 2sigma error of:\n",
      "0.23572205808333152\n",
      "N=\n",
      "6\n"
     ]
    }
   ],
   "source": [
    "F840A_mean_date, F840A_2sigma = weighted_mean_from_df(F840A)\n",
    "\n",
    "F840A_mean = dict(mean=F840A_mean_date,\n",
    "                    two_sigma=F840A_2sigma,\n",
    "                    color=Laurentia_syn_glacial_color,\n",
    "                    label='F840A (Laurentia)')"
   ]
  },
  {
   "cell_type": "code",
   "execution_count": 12,
   "metadata": {},
   "outputs": [
    {
     "data": {
      "image/png": "[encoded data removed]",
      "text/plain": [
       "<Figure size 432x288 with 1 Axes>"
      ]
     },
     "metadata": {
      "needs_background": "light"
     },
     "output_type": "display_data"
    },
    {
     "data": {
      "text/plain": [
       "(<Figure size 432x288 with 1 Axes>,\n",
       " <AxesSubplot:ylabel='$^{206}$Pb/$^{238}$U date [Ma]'>)"
      ]
     },
     "execution_count": 12,
     "metadata": {},
     "output_type": "execute_result"
    }
   ],
   "source": [
    "make_dates_plot([F837B,F840A],\n",
    "                [F837B_mean,F840A_mean])\n"
   ]
  },
  {
   "cell_type": "markdown",
   "metadata": {},
   "source": [
    "## Laurentia - Macdonald et al. (2017)"
   ]
  },
  {
   "cell_type": "code",
   "execution_count": 13,
   "metadata": {},
   "outputs": [],
   "source": [
    "Macdonald2017 = pd.read_csv('../data/Geochron/Laurentia//Macdonald2017_data.csv')\n",
    "Macdonald2017 = Macdonald2017[Macdonald2017['include'] == 'yes']\n",
    "\n",
    "F917_1 = Macdonald2017[Macdonald2017['sample']=='F917-1'].copy()\n",
    "F837C = Macdonald2017[Macdonald2017['sample']=='F837C'].copy()\n",
    "F837A = Macdonald2017[Macdonald2017['sample']=='F837A'].copy()\n",
    "_15PM06 = Macdonald2017[Macdonald2017['sample']=='15PM06'].copy()\n",
    "_15PM08 = Macdonald2017[Macdonald2017['sample']=='15PM08'].copy()\n",
    "\n",
    "F917_1.sort_values('206Pb/238U', inplace=True)\n",
    "F837C.sort_values('206Pb/238U', inplace=True)\n",
    "F837A.sort_values('206Pb/238U', inplace=True)\n",
    "_15PM06.sort_values('206Pb/238U', inplace=True)\n",
    "_15PM08.sort_values('206Pb/238U', inplace=True)\n",
    "\n",
    "F917_1.reset_index(inplace=True, drop=True)\n",
    "F837C.reset_index(inplace=True, drop=True)\n",
    "F837A.reset_index(inplace=True, drop=True)\n",
    "_15PM06.reset_index(inplace=True, drop=True)\n",
    "_15PM08.reset_index(inplace=True, drop=True)"
   ]
  },
  {
   "cell_type": "code",
   "execution_count": 14,
   "metadata": {},
   "outputs": [
    {
     "name": "stdout",
     "output_type": "stream",
     "text": [
      "The weighted mean is:\n",
      "716.9351361641161\n",
      "With a 2sigma error of:\n",
      "0.23874107078365667\n",
      "N=\n",
      "6\n"
     ]
    }
   ],
   "source": [
    "F917_1_mean_date, F917_1_2sigma = weighted_mean_from_df(F917_1)\n",
    "\n",
    "F917_1_mean = dict(mean=F917_1_mean_date,\n",
    "                    two_sigma=F917_1_2sigma,\n",
    "                    color=Laurentia_syn_glacial_color,\n",
    "                    label='F917_1 (Laurentia)')"
   ]
  },
  {
   "cell_type": "code",
   "execution_count": 15,
   "metadata": {},
   "outputs": [
    {
     "name": "stdout",
     "output_type": "stream",
     "text": [
      "The weighted mean is:\n",
      "717.6719300132769\n",
      "With a 2sigma error of:\n",
      "0.3156109092585548\n",
      "N=\n",
      "3\n"
     ]
    }
   ],
   "source": [
    "F837C_mean_date, F837C_2sigma = weighted_mean_from_df(F837C)\n",
    "\n",
    "F837C_mean = dict(mean=F837C_mean_date,\n",
    "                    two_sigma=F837C_2sigma,\n",
    "                    color=Laurentia_pre_glacial_color,\n",
    "                    label='F837C (Laurentia)')"
   ]
  },
  {
   "cell_type": "code",
   "execution_count": 16,
   "metadata": {},
   "outputs": [
    {
     "name": "stdout",
     "output_type": "stream",
     "text": [
      "The weighted mean is:\n",
      "717.84505161271\n",
      "With a 2sigma error of:\n",
      "0.24095227652052018\n",
      "N=\n",
      "4\n"
     ]
    }
   ],
   "source": [
    "F837A_mean_date, F837A_2sigma = weighted_mean_from_df(F837A)\n",
    "\n",
    "F837A_mean = dict(mean=F837A_mean_date,\n",
    "                    two_sigma=F837A_2sigma,\n",
    "                    color=Laurentia_pre_glacial_color,\n",
    "                    label='F837A (Laurentia)')"
   ]
  },
  {
   "cell_type": "code",
   "execution_count": 17,
   "metadata": {},
   "outputs": [
    {
     "name": "stdout",
     "output_type": "stream",
     "text": [
      "The weighted mean is:\n",
      "718.133175569848\n",
      "With a 2sigma error of:\n",
      "0.2780523694826306\n",
      "N=\n",
      "4\n"
     ]
    }
   ],
   "source": [
    "_15PM06_mean_date, _15PM06_2sigma = weighted_mean_from_df(_15PM06)\n",
    "\n",
    "_15PM06_mean = dict(mean=_15PM06_mean_date,\n",
    "                    two_sigma=_15PM06_2sigma,\n",
    "                    color=Laurentia_pre_glacial_color,\n",
    "                    label='15PM06 (Laurentia)')"
   ]
  },
  {
   "cell_type": "code",
   "execution_count": 18,
   "metadata": {},
   "outputs": [
    {
     "name": "stdout",
     "output_type": "stream",
     "text": [
      "The weighted mean is:\n",
      "718.1180993803516\n",
      "With a 2sigma error of:\n",
      "0.2102624613831286\n",
      "N=\n",
      "6\n"
     ]
    }
   ],
   "source": [
    "_15PM08_mean_date, _15PM08_2sigma = weighted_mean_from_df(_15PM08)\n",
    "\n",
    "_15PM08_mean = dict(mean=_15PM08_mean_date,\n",
    "                    two_sigma=_15PM08_2sigma,\n",
    "                    color=Laurentia_pre_glacial_color,\n",
    "                    label='15PM08 (Laurentia)')"
   ]
  },
  {
   "cell_type": "code",
   "execution_count": 19,
   "metadata": {},
   "outputs": [
    {
     "data": {
      "image/png": "[encoded data removed]",
      "text/plain": [
       "<Figure size 432x288 with 1 Axes>"
      ]
     },
     "metadata": {
      "needs_background": "light"
     },
     "output_type": "display_data"
    },
    {
     "data": {
      "text/plain": [
       "(<Figure size 432x288 with 1 Axes>,\n",
       " <AxesSubplot:ylabel='$^{206}$Pb/$^{238}$U date [Ma]'>)"
      ]
     },
     "execution_count": 19,
     "metadata": {},
     "output_type": "execute_result"
    }
   ],
   "source": [
    "\n",
    "\n",
    "make_dates_plot([F917_1,F837C,F837A,_15PM06,_15PM08],\n",
    "                [F917_1_mean,F837C_mean,F837A_mean,_15PM06_mean,_15PM08_mean])"
   ]
  },
  {
   "cell_type": "markdown",
   "metadata": {},
   "source": [
    "## South China - Lan et al. 2020\n",
    "\n",
    "**The data file needs to be updated to the TIMS data -- currently the SHRIMP**"
   ]
  },
  {
   "cell_type": "code",
   "execution_count": 20,
   "metadata": {},
   "outputs": [],
   "source": [
    "Lan2020 = pd.read_csv('../data/Geochron/South_China/Lan2020_data.csv')\n",
    "\n",
    "Lan2020.sort_values('206Pb/238U', inplace=True)\n",
    "Lan2020 = Lan2020[Lan2020['include'] == 'yes']\n",
    "Lan2020.reset_index(inplace=True, drop=True)"
   ]
  },
  {
   "cell_type": "code",
   "execution_count": 21,
   "metadata": {},
   "outputs": [
    {
     "name": "stdout",
     "output_type": "stream",
     "text": [
      "The weighted mean is:\n",
      "720.0215527975806\n",
      "With a 2sigma error of:\n",
      "1.0120776920632637\n",
      "N=\n",
      "3\n"
     ]
    }
   ],
   "source": [
    "_2017SC01_mean_date, _2017SC01_2sigma = weighted_mean_from_df(Lan2020)\n",
    "\n",
    "Lan2020_mean = dict(mean=_2017SC01_mean_date,\n",
    "                    two_sigma=_2017SC01_2sigma,\n",
    "                    color=South_China_color,\n",
    "                    label='2017SC01 (South China)')"
   ]
  },
  {
   "cell_type": "code",
   "execution_count": 22,
   "metadata": {},
   "outputs": [
    {
     "data": {
      "image/png": "[encoded data removed]",
      "text/plain": [
       "<Figure size 432x288 with 1 Axes>"
      ]
     },
     "metadata": {
      "needs_background": "light"
     },
     "output_type": "display_data"
    },
    {
     "data": {
      "text/plain": [
       "(<Figure size 432x288 with 1 Axes>,\n",
       " <AxesSubplot:ylabel='$^{206}$Pb/$^{238}$U date [Ma]'>)"
      ]
     },
     "execution_count": 22,
     "metadata": {},
     "output_type": "execute_result"
    }
   ],
   "source": [
    "make_dates_plot([Lan2020],\n",
    "                [Lan2020_mean])"
   ]
  },
  {
   "cell_type": "markdown",
   "metadata": {},
   "source": [
    "## Oman - Bowring et al. (2007)"
   ]
  },
  {
   "cell_type": "code",
   "execution_count": 23,
   "metadata": {},
   "outputs": [],
   "source": [
    "Bowring2007 = pd.read_csv('../data/Geochron/Oman/Bowring2007_data.csv')\n",
    "Bowring2007 = Bowring2007[Bowring2007['include'] == 'yes']\n",
    "Bowring2007['206Pb/238U_2sigma'] = Bowring2007['206Pb/238U'] * (Bowring2007['206Pb/238U_2sigma_perc']/100)\n",
    "Bowring2007.sort_values('206Pb/238U', inplace=True)\n",
    "Bowring2007.reset_index(inplace=True, drop=True)\n",
    "\n",
    "zircon_means = [Bowring2007['206Pb/238U']]\n",
    "zircon_2sigmas = [Bowring2007['206Pb/238U_2sigma']]\n",
    "include = [Bowring2007['include']]"
   ]
  },
  {
   "cell_type": "code",
   "execution_count": 24,
   "metadata": {},
   "outputs": [
    {
     "name": "stdout",
     "output_type": "stream",
     "text": [
      "The weighted mean is:\n",
      "711.5211873202246\n",
      "With a 2sigma error of:\n",
      "0.21997098440898957\n",
      "N=\n",
      "5\n"
     ]
    }
   ],
   "source": [
    "WM_54_mean_date, WM_54_2sigma = weighted_mean_from_df(Bowring2007)\n",
    "\n",
    "Bowring2007_mean = dict(mean=WM_54_mean_date,\n",
    "                    two_sigma=WM_54_2sigma,\n",
    "                    color=Oman_syn_glacial_color,\n",
    "                    label='WM_54 (Oman)')"
   ]
  },
  {
   "cell_type": "code",
   "execution_count": 25,
   "metadata": {},
   "outputs": [
    {
     "data": {
      "image/png": "[encoded data removed]",
      "text/plain": [
       "<Figure size 432x288 with 1 Axes>"
      ]
     },
     "metadata": {
      "needs_background": "light"
     },
     "output_type": "display_data"
    },
    {
     "data": {
      "text/plain": [
       "(<Figure size 432x288 with 1 Axes>,\n",
       " <AxesSubplot:ylabel='$^{206}$Pb/$^{238}$U date [Ma]'>)"
      ]
     },
     "execution_count": 25,
     "metadata": {},
     "output_type": "execute_result"
    }
   ],
   "source": [
    "make_dates_plot([Bowring2007],\n",
    "                [Bowring2007_mean])"
   ]
  },
  {
   "cell_type": "code",
   "execution_count": 26,
   "metadata": {},
   "outputs": [
    {
     "data": {
      "text/plain": [
       "[]"
      ]
     },
     "execution_count": 26,
     "metadata": {},
     "output_type": "execute_result"
    },
    {
     "data": {
      "image/png": "[encoded data removed]",
      "text/plain": [
       "<Figure size 432x288 with 1 Axes>"
      ]
     },
     "metadata": {
      "needs_background": "light"
     },
     "output_type": "display_data"
    }
   ],
   "source": [
    "all_dates_dfs = [Lan2020,\n",
    "                 SAM_ET_03,\n",
    "                 SAM_ET_04,\n",
    "                 _15PM08,\n",
    "                 _15PM06,\n",
    "                 F837A,\n",
    "                 F837C,\n",
    "                 F837B,\n",
    "                 F917_1,\n",
    "                 F840A,\n",
    "                 Bowring2007]\n",
    "\n",
    "all_dates_dicts = [Lan2020_mean,\n",
    "                   SAM_ET_03_mean,\n",
    "                   SAM_ET_04_mean,\n",
    "                   _15PM08_mean,\n",
    "                   _15PM06_mean,\n",
    "                  F837A_mean,\n",
    "                  F837C_mean,\n",
    "                  F837B_mean,\n",
    "                  F917_1_mean,\n",
    "                  F840A_mean,\n",
    "                  Bowring2007_mean]\n",
    "\n",
    "sturt_zircon_means, sturt_zircon_2sigmas, \\\n",
    "sturt_include = extract_df_lists(all_dates_dfs)\n",
    "sturt_sample_means, sturt_sample_2sigmas, sturt_colors, \\\n",
    "sturt_labels = extract_dict_lists(all_dates_dicts)\n",
    "\n",
    "fig, ax = plot_dates(sturt_zircon_means, sturt_zircon_2sigmas, sturt_include,\n",
    "                    sturt_sample_means, sturt_sample_2sigmas, sturt_colors, sturt_labels)\n",
    "plt.gca().set_xticks([])"
   ]
  },
  {
   "cell_type": "code",
   "execution_count": 27,
   "metadata": {},
   "outputs": [
    {
     "data": {
      "image/png": "[encoded data removed]",
      "text/plain": [
       "<Figure size 576x576 with 2 Axes>"
      ]
     },
     "metadata": {
      "needs_background": "light"
     },
     "output_type": "display_data"
    }
   ],
   "source": [
    "xlim = (-20,110)\n",
    "ylim = (724,710)\n",
    "\n",
    "# zircons\n",
    "fig, ax = plot_dates(sturt_zircon_means, sturt_zircon_2sigmas, sturt_include,\\\n",
    "                     sturt_sample_means, sturt_sample_2sigmas, sturt_colors, sturt_labels,\\\n",
    "                     figsize=(8,8), lineweight=2.0, bbox_to_anchor=(1.45,1),legend=False)\n",
    "ax.set_xlim(xlim)\n",
    "ax.set_xticks([])\n",
    "\n",
    "# sturtian start\n",
    "rectangle = matplotlib.patches.Rectangle((xlim[0], 716.5),\\\n",
    "                                         (xlim[1]-xlim[0]), 717.4-716.5, color='skyblue', alpha=0.5)\n",
    "ax.add_patch(rectangle)\n",
    "\n",
    "# MC results\n",
    "twinax = ax.twiny()\n",
    "twinax.hist(MC_results, bins=30, histtype='stepfilled', orientation='horizontal', color='darkblue')\n",
    "ax.axhline(MC_2_5, color='darkblue', lw=0.5, ls='--')\n",
    "ax.axhline(MC_97_5, color='darkblue', lw=0.5, ls='--')\n",
    "twinax.set_xlim(0,100000)\n",
    "twinax.set_xticks([])\n",
    "twinax.set_ylim(ylim)\n",
    "\n",
    "plt.show(fig)"
   ]
  },
  {
   "cell_type": "markdown",
   "metadata": {},
   "source": [
    "# Pu et al. (2022) Franklin dates"
   ]
  },
  {
   "cell_type": "code",
   "execution_count": 28,
   "metadata": {},
   "outputs": [],
   "source": [
    "Pu2022 = pd.read_csv('../data/Geochron/Laurentia/Pu2022_zircon_dates.csv')\n",
    "Pu2022 = Pu2022[Pu2022['include'] == 'yes']\n",
    "\n",
    "_93JP_71JB = Pu2022[Pu2022['sample']=='93JP-71JB'].copy()\n",
    "_93JP_71JB.sort_values('206Pb/238U', inplace=True)\n",
    "_93JP_71JB.reset_index(inplace=True, drop=True)\n",
    "\n",
    "_93JP_93K = Pu2022[Pu2022['sample']=='93JP-93K'].copy()\n",
    "_93JP_93K.sort_values('206Pb/238U', inplace=True)\n",
    "_93JP_93K.reset_index(inplace=True, drop=True)\n",
    "\n",
    "_93JP_93L = Pu2022[Pu2022['sample']=='93JP-93L'].copy()\n",
    "_93JP_93L.sort_values('206Pb/238U', inplace=True)\n",
    "_93JP_93L.reset_index(inplace=True, drop=True)\n",
    "\n",
    "_17RAT_R35B1 = Pu2022[Pu2022['sample']=='17RAT-R35B1'].copy()\n",
    "_17RAT_R35B1.sort_values('206Pb/238U', inplace=True)\n",
    "_17RAT_R35B1.reset_index(inplace=True, drop=True)\n",
    "\n",
    "_14RAT_513A = Pu2022[Pu2022['sample']=='14RAT-513A'].copy()\n",
    "_14RAT_513A.sort_values('206Pb/238U', inplace=True)\n",
    "_14RAT_513A.reset_index(inplace=True, drop=True)\n",
    "\n",
    "F1966 = Pu2022[Pu2022['sample']=='F1966'].copy()\n",
    "F1966.sort_values('206Pb/238U', inplace=True)\n",
    "F1966.reset_index(inplace=True, drop=True)\n"
   ]
  },
  {
   "cell_type": "code",
   "execution_count": 29,
   "metadata": {},
   "outputs": [
    {
     "name": "stdout",
     "output_type": "stream",
     "text": [
      "The weighted mean is:\n",
      "719.8609107244281\n",
      "With a 2sigma error of:\n",
      "0.21466412285934702\n",
      "N=\n",
      "6\n"
     ]
    }
   ],
   "source": [
    "_17RAT_R35B1_mean_date, _17RAT_R35B1_2sigma = weighted_mean_from_df(_17RAT_R35B1)\n",
    "\n",
    "_17RAT_R35B1_mean = dict(mean=_17RAT_R35B1_mean_date,\n",
    "                    two_sigma=_17RAT_R35B1_2sigma,\n",
    "                    color=Franklin_color,\n",
    "                    label='17RAT_R35B1 (Franklin)')"
   ]
  },
  {
   "cell_type": "code",
   "execution_count": 30,
   "metadata": {},
   "outputs": [
    {
     "name": "stdout",
     "output_type": "stream",
     "text": [
      "The weighted mean is:\n",
      "719.0851119391116\n",
      "With a 2sigma error of:\n",
      "0.21625459379631037\n",
      "N=\n",
      "6\n"
     ]
    }
   ],
   "source": [
    "F1966_mean_date, F1966_2sigma = weighted_mean_from_df(F1966)\n",
    "\n",
    "F1966_mean = dict(mean=F1966_mean_date,\n",
    "                    two_sigma=F1966_2sigma,\n",
    "                    color=Franklin_color,\n",
    "                    label='F1966 (Franklin)')"
   ]
  },
  {
   "cell_type": "code",
   "execution_count": 31,
   "metadata": {},
   "outputs": [
    {
     "name": "stdout",
     "output_type": "stream",
     "text": [
      "The weighted mean is:\n",
      "719.0359496913438\n",
      "With a 2sigma error of:\n",
      "0.187227647909022\n",
      "N=\n",
      "9\n"
     ]
    }
   ],
   "source": [
    "_93JP_71JB_mean_date, _93JP_71JB_2sigma = weighted_mean_from_df(_93JP_71JB)\n",
    "\n",
    "_93JP_71JB_mean = dict(mean=_93JP_71JB_mean_date,\n",
    "                    two_sigma=_93JP_71JB_2sigma,\n",
    "                    color=Franklin_color,\n",
    "                    label='93JP_71JB (Franklin)')"
   ]
  },
  {
   "cell_type": "code",
   "execution_count": 32,
   "metadata": {},
   "outputs": [
    {
     "name": "stdout",
     "output_type": "stream",
     "text": [
      "The weighted mean is:\n",
      "718.9627651934785\n",
      "With a 2sigma error of:\n",
      "0.20752955635023532\n",
      "N=\n",
      "11\n"
     ]
    }
   ],
   "source": [
    "_93JP_93L_mean_date, _93JP_93L_2sigma = weighted_mean_from_df(_93JP_93L)\n",
    "\n",
    "_93JP_93L_mean = dict(mean=_93JP_93L_mean_date,\n",
    "                    two_sigma=_93JP_93L_2sigma,\n",
    "                    color=Franklin_color,\n",
    "                    label='93JP_93L (Franklin)')"
   ]
  },
  {
   "cell_type": "code",
   "execution_count": 33,
   "metadata": {},
   "outputs": [
    {
     "name": "stdout",
     "output_type": "stream",
     "text": [
      "The weighted mean is:\n",
      "718.7737930848909\n",
      "With a 2sigma error of:\n",
      "0.29630645135204603\n",
      "N=\n",
      "4\n"
     ]
    }
   ],
   "source": [
    "_93JP_93K_mean_date, _93JP_93K_2sigma = weighted_mean_from_df(_93JP_93K)\n",
    "\n",
    "_93JP_93K_mean = dict(mean=_93JP_93K_mean_date,\n",
    "                    two_sigma=_93JP_93K_2sigma,\n",
    "                    color=Franklin_color,\n",
    "                    label='93JP_71JB (Franklin)')"
   ]
  },
  {
   "cell_type": "code",
   "execution_count": 34,
   "metadata": {},
   "outputs": [
    {
     "name": "stdout",
     "output_type": "stream",
     "text": [
      "The weighted mean is:\n",
      "718.6141590188034\n",
      "With a 2sigma error of:\n",
      "0.29992097074268004\n",
      "N=\n",
      "9\n"
     ]
    }
   ],
   "source": [
    "_14RAT_513A_mean_date, _14RAT_513A_2sigma = weighted_mean_from_df(_14RAT_513A)\n",
    "\n",
    "_14RAT_513A_mean = dict(mean=_14RAT_513A_mean_date,\n",
    "                    two_sigma=_14RAT_513A_2sigma,\n",
    "                    color=Franklin_color,\n",
    "                    label='14RAT_513A (Franklin)')"
   ]
  },
  {
   "cell_type": "code",
   "execution_count": 35,
   "metadata": {},
   "outputs": [
    {
     "data": {
      "text/plain": [
       "[]"
      ]
     },
     "execution_count": 35,
     "metadata": {},
     "output_type": "execute_result"
    },
    {
     "data": {
      "image/png": "[encoded data removed]",
      "text/plain": [
       "<Figure size 432x288 with 1 Axes>"
      ]
     },
     "metadata": {
      "needs_background": "light"
     },
     "output_type": "display_data"
    }
   ],
   "source": [
    "all_dates_dfs = [_17RAT_R35B1,\n",
    "                 F1966,\n",
    "                 _93JP_71JB,\n",
    "                 _93JP_93L,\n",
    "                 _93JP_93K,\n",
    "                 _14RAT_513A]\n",
    "\n",
    "all_dates_dicts = [ _17RAT_R35B1_mean,\n",
    "                   F1966_mean,\n",
    "                   _93JP_71JB_mean,\n",
    "                   _93JP_93L_mean,\n",
    "                   _93JP_93K_mean,\n",
    "                   _14RAT_513A_mean]\n",
    "\n",
    "franklin_zircon_means, franklin_zircon_2sigmas, \\\n",
    "franklin_include = extract_df_lists(all_dates_dfs)\n",
    "franklin_sample_means, franklin_sample_2sigmas, franklin_colors, \\\n",
    "franklin_labels = extract_dict_lists(all_dates_dicts)\n",
    "\n",
    "fig, ax = plot_dates(franklin_zircon_means, franklin_zircon_2sigmas, franklin_include,\n",
    "                    franklin_sample_means, franklin_sample_2sigmas, franklin_colors, franklin_labels)\n",
    "plt.gca().set_xticks([])"
   ]
  },
  {
   "cell_type": "code",
   "execution_count": 36,
   "metadata": {},
   "outputs": [
    {
     "data": {
      "text/html": [
       "<div>\n",
       "<style scoped>\n",
       "    .dataframe tbody tr th:only-of-type {\n",
       "        vertical-align: middle;\n",
       "    }\n",
       "\n",
       "    .dataframe tbody tr th {\n",
       "        vertical-align: top;\n",
       "    }\n",
       "\n",
       "    .dataframe thead th {\n",
       "        text-align: right;\n",
       "    }\n",
       "</style>\n",
       "<table border=\"1\" class=\"dataframe\">\n",
       "  <thead>\n",
       "    <tr style=\"text-align: right;\">\n",
       "      <th></th>\n",
       "      <th>mean</th>\n",
       "      <th>two_sigma</th>\n",
       "      <th>color</th>\n",
       "      <th>label</th>\n",
       "    </tr>\n",
       "  </thead>\n",
       "  <tbody>\n",
       "    <tr>\n",
       "      <th>0</th>\n",
       "      <td>718.614159</td>\n",
       "      <td>0.299921</td>\n",
       "      <td>red</td>\n",
       "      <td>14RAT_513A (Franklin)</td>\n",
       "    </tr>\n",
       "    <tr>\n",
       "      <th>1</th>\n",
       "      <td>718.773793</td>\n",
       "      <td>0.296306</td>\n",
       "      <td>red</td>\n",
       "      <td>93JP_71JB (Franklin)</td>\n",
       "    </tr>\n",
       "    <tr>\n",
       "      <th>2</th>\n",
       "      <td>718.962765</td>\n",
       "      <td>0.207530</td>\n",
       "      <td>red</td>\n",
       "      <td>93JP_93L (Franklin)</td>\n",
       "    </tr>\n",
       "    <tr>\n",
       "      <th>3</th>\n",
       "      <td>719.035950</td>\n",
       "      <td>0.187228</td>\n",
       "      <td>red</td>\n",
       "      <td>93JP_71JB (Franklin)</td>\n",
       "    </tr>\n",
       "    <tr>\n",
       "      <th>4</th>\n",
       "      <td>719.085112</td>\n",
       "      <td>0.216255</td>\n",
       "      <td>red</td>\n",
       "      <td>F1966 (Franklin)</td>\n",
       "    </tr>\n",
       "    <tr>\n",
       "      <th>5</th>\n",
       "      <td>719.860911</td>\n",
       "      <td>0.214664</td>\n",
       "      <td>red</td>\n",
       "      <td>17RAT_R35B1 (Franklin)</td>\n",
       "    </tr>\n",
       "  </tbody>\n",
       "</table>\n",
       "</div>"
      ],
      "text/plain": [
       "         mean  two_sigma color                   label\n",
       "0  718.614159   0.299921   red   14RAT_513A (Franklin)\n",
       "1  718.773793   0.296306   red    93JP_71JB (Franklin)\n",
       "2  718.962765   0.207530   red     93JP_93L (Franklin)\n",
       "3  719.035950   0.187228   red    93JP_71JB (Franklin)\n",
       "4  719.085112   0.216255   red        F1966 (Franklin)\n",
       "5  719.860911   0.214664   red  17RAT_R35B1 (Franklin)"
      ]
     },
     "execution_count": 36,
     "metadata": {},
     "output_type": "execute_result"
    }
   ],
   "source": [
    "Pu_calculated = pd.DataFrame(all_dates_dicts)\n",
    "Pu_calculated.sort_values('mean', inplace=True)\n",
    "Pu_calculated.reset_index(inplace=True, drop=True)\n",
    "Pu_calculated"
   ]
  },
  {
   "cell_type": "code",
   "execution_count": 37,
   "metadata": {},
   "outputs": [
    {
     "data": {
      "text/html": [
       "<div>\n",
       "<style scoped>\n",
       "    .dataframe tbody tr th:only-of-type {\n",
       "        vertical-align: middle;\n",
       "    }\n",
       "\n",
       "    .dataframe tbody tr th {\n",
       "        vertical-align: top;\n",
       "    }\n",
       "\n",
       "    .dataframe thead th {\n",
       "        text-align: right;\n",
       "    }\n",
       "</style>\n",
       "<table border=\"1\" class=\"dataframe\">\n",
       "  <thead>\n",
       "    <tr style=\"text-align: right;\">\n",
       "      <th></th>\n",
       "      <th>sample</th>\n",
       "      <th>lat</th>\n",
       "      <th>lon</th>\n",
       "      <th>intrusion_type</th>\n",
       "      <th>date</th>\n",
       "      <th>x</th>\n",
       "      <th>y</th>\n",
       "      <th>z</th>\n",
       "      <th>notes</th>\n",
       "    </tr>\n",
       "  </thead>\n",
       "  <tbody>\n",
       "    <tr>\n",
       "      <th>0</th>\n",
       "      <td>14RAT-513A</td>\n",
       "      <td>69.63869</td>\n",
       "      <td>-120.99100</td>\n",
       "      <td>Dyke</td>\n",
       "      <td>718.61</td>\n",
       "      <td>0.30</td>\n",
       "      <td>0.36</td>\n",
       "      <td>0.82</td>\n",
       "      <td>Brock Inlier</td>\n",
       "    </tr>\n",
       "    <tr>\n",
       "      <th>1</th>\n",
       "      <td>93JP-93K</td>\n",
       "      <td>68.44681</td>\n",
       "      <td>-111.04878</td>\n",
       "      <td>Sill</td>\n",
       "      <td>718.77</td>\n",
       "      <td>0.30</td>\n",
       "      <td>0.36</td>\n",
       "      <td>0.82</td>\n",
       "      <td>Duke of York Inlier</td>\n",
       "    </tr>\n",
       "    <tr>\n",
       "      <th>2</th>\n",
       "      <td>93JP-93L</td>\n",
       "      <td>68.44681</td>\n",
       "      <td>-111.04878</td>\n",
       "      <td>Sill</td>\n",
       "      <td>718.96</td>\n",
       "      <td>0.21</td>\n",
       "      <td>0.29</td>\n",
       "      <td>0.79</td>\n",
       "      <td>Duke of York Inlier</td>\n",
       "    </tr>\n",
       "    <tr>\n",
       "      <th>3</th>\n",
       "      <td>93JP-71JB</td>\n",
       "      <td>72.10186</td>\n",
       "      <td>-111.65593</td>\n",
       "      <td>Sill</td>\n",
       "      <td>719.04</td>\n",
       "      <td>0.19</td>\n",
       "      <td>0.28</td>\n",
       "      <td>0.79</td>\n",
       "      <td>Minto Inlier</td>\n",
       "    </tr>\n",
       "    <tr>\n",
       "      <th>4</th>\n",
       "      <td>F1966</td>\n",
       "      <td>62.72152</td>\n",
       "      <td>-110.20494</td>\n",
       "      <td>Sill</td>\n",
       "      <td>719.08</td>\n",
       "      <td>0.22</td>\n",
       "      <td>0.30</td>\n",
       "      <td>0.79</td>\n",
       "      <td>Great Slave Lake</td>\n",
       "    </tr>\n",
       "    <tr>\n",
       "      <th>5</th>\n",
       "      <td>17RAT-R35B1</td>\n",
       "      <td>67.62236</td>\n",
       "      <td>-115.48222</td>\n",
       "      <td>Sill</td>\n",
       "      <td>719.86</td>\n",
       "      <td>0.21</td>\n",
       "      <td>0.30</td>\n",
       "      <td>0.79</td>\n",
       "      <td>Coronation Gulf, Coppermine area</td>\n",
       "    </tr>\n",
       "  </tbody>\n",
       "</table>\n",
       "</div>"
      ],
      "text/plain": [
       "         sample        lat          lon intrusion_type     date      x      y  \\\n",
       "0   14RAT-513A   69.63869   -120.99100           Dyke   718.61   0.30   0.36    \n",
       "1     93JP-93K   68.44681   -111.04878           Sill   718.77   0.30   0.36    \n",
       "2     93JP-93L   68.44681   -111.04878           Sill   718.96   0.21   0.29    \n",
       "3    93JP-71JB   72.10186   -111.65593           Sill   719.04   0.19   0.28    \n",
       "4        F1966   62.72152   -110.20494           Sill   719.08   0.22   0.30    \n",
       "5  17RAT-R35B1   67.62236   -115.48222           Sill   719.86   0.21   0.30    \n",
       "\n",
       "       z                              notes  \n",
       "0  0.82                       Brock Inlier   \n",
       "1  0.82                Duke of York Inlier   \n",
       "2  0.79                Duke of York Inlier   \n",
       "3  0.79                       Minto Inlier   \n",
       "4  0.79                   Great Slave Lake   \n",
       "5  0.79   Coronation Gulf, Coppermine area   "
      ]
     },
     "execution_count": 37,
     "metadata": {},
     "output_type": "execute_result"
    }
   ],
   "source": [
    "Pu2022_dates_summary = pd.read_csv('../data/geochron/Laurentia/Pu2022_dates.csv')\n",
    "Pu2022_dates_summary.sort_values('date', inplace=True)\n",
    "Pu2022_dates_summary.reset_index(inplace=True, drop=True)\n",
    "Pu2022_dates_summary"
   ]
  },
  {
   "cell_type": "code",
   "execution_count": 38,
   "metadata": {},
   "outputs": [],
   "source": [
    "Pu_calculated_main = Pu_calculated[Pu_calculated['mean']<719.5]"
   ]
  },
  {
   "cell_type": "code",
   "execution_count": 39,
   "metadata": {},
   "outputs": [],
   "source": [
    "Franklin_main_dates = Pu_calculated_main['mean'].to_list()\n",
    "Franklin_main_2sigma = Pu_calculated_main['two_sigma'].to_list()\n",
    "\n",
    "resampled_mean_dates = []\n",
    "resampled_min_dates = []\n",
    "resampled_max_dates = []\n",
    "resampled_durations = []\n",
    "resampled_lags_pre_date = []\n",
    "resampled_lags_syn_date = []\n",
    "\n",
    "for n in range(0,100000):\n",
    "    \n",
    "    resampled_dates = []\n",
    "\n",
    "    for n in range(0,len(Franklin_main_dates)):\n",
    "        date = Franklin_main_dates[n]\n",
    "        sigma = Franklin_main_2sigma[n]/2\n",
    "        resampled_date = np.random.normal(date, sigma, 1)\n",
    "        resampled_dates.append(resampled_date[0])\n",
    "        \n",
    "    resampled_mean = np.mean(resampled_dates)\n",
    "    \n",
    "    resampled_mean_dates.append(resampled_mean)\n",
    "    resampled_min_dates.append(min(resampled_dates))\n",
    "    resampled_max_dates.append(max(resampled_dates))\n",
    "    resampled_durations.append(max(resampled_dates)-min(resampled_dates))\n",
    "    \n",
    "    resampled_Sturt_onset = np.random.normal(717.4, 0.05, 1)\n",
    "    resampled_lag = min(resampled_dates) - resampled_Sturt_onset\n",
    "    resampled_lags_pre_date.append(resampled_lag[0])\n",
    "    \n",
    "    resampled_Sturt_onset = np.random.normal(716.9, 0.2, 1)\n",
    "    resampled_lag = min(resampled_dates) - resampled_Sturt_onset\n",
    "    resampled_lags_syn_date.append(resampled_lag[0])"
   ]
  },
  {
   "cell_type": "code",
   "execution_count": 40,
   "metadata": {},
   "outputs": [
    {
     "data": {
      "image/png": "[encoded data removed]",
      "text/plain": [
       "<Figure size 432x288 with 1 Axes>"
      ]
     },
     "metadata": {
      "needs_background": "light"
     },
     "output_type": "display_data"
    }
   ],
   "source": [
    "plt.hist(resampled_min_dates, bins=30, histtype='stepfilled', alpha=0.5,\n",
    "         label='resampled minimum dates')\n",
    "plt.hist(resampled_mean_dates, bins=30, histtype='stepfilled', alpha=0.5,\n",
    "         label='resampled mean dates')\n",
    "plt.hist(resampled_max_dates, bins=30, histtype='stepfilled', alpha=0.5,\n",
    "         label='resampled maximum dates')\n",
    "plt.xlabel('age (Ma)')\n",
    "plt.legend()\n",
    "plt.show()"
   ]
  },
  {
   "cell_type": "code",
   "execution_count": 41,
   "metadata": {},
   "outputs": [
    {
     "name": "stdout",
     "output_type": "stream",
     "text": [
      "The mean duration is:\n",
      "0.54\n",
      "\n",
      "with 95% confidence bounds of\n",
      "0.26 to 0.86\n"
     ]
    },
    {
     "data": {
      "image/png": "[encoded data removed]",
      "text/plain": [
       "<Figure size 432x288 with 1 Axes>"
      ]
     },
     "metadata": {
      "needs_background": "light"
     },
     "output_type": "display_data"
    }
   ],
   "source": [
    "values = plt.hist(resampled_durations, bins=30, histtype='stepfilled', \n",
    "                  alpha=0.5, color='darkred')\n",
    "histmax = np.max(values[0])\n",
    "ylims = [0,histmax*1.1]\n",
    "\n",
    "duration_mean = np.mean(resampled_durations)\n",
    "duration_percentile_2_5 = np.percentile(resampled_durations,2.5)\n",
    "duration_percentile_97_5 = np.percentile(resampled_durations,97.5)\n",
    "\n",
    "plt.vlines(x=duration_percentile_2_5,ymin=ylims[0],ymax=ylims[1],\n",
    "           color='darkred')\n",
    "plt.vlines(x=duration_percentile_97_5,ymin=ylims[0],ymax=ylims[1],\n",
    "           color='darkred')\n",
    "plt.ylim(ylims[0],ylims[1])\n",
    "plt.xlabel('duration (Myr)')\n",
    "\n",
    "print('The mean duration is:')\n",
    "print(round(duration_mean,2))\n",
    "print('')\n",
    "print('with 95% confidence bounds of')\n",
    "print(str(round(duration_percentile_2_5,2)) + ' to ' + str(round(duration_percentile_97_5,2)))"
   ]
  },
  {
   "cell_type": "code",
   "execution_count": 42,
   "metadata": {},
   "outputs": [
    {
     "data": {
      "image/png": "[encoded data removed]",
      "text/plain": [
       "<Figure size 936x576 with 3 Axes>"
      ]
     },
     "metadata": {
      "needs_background": "light"
     },
     "output_type": "display_data"
    }
   ],
   "source": [
    "xlim = (-22,210)\n",
    "ylim = (724,714)\n",
    "\n",
    "all_dates_dfs = [Lan2020,\n",
    "                 SAM_ET_04,\n",
    "                 SAM_ET_03,\n",
    "                 _15PM06,\n",
    "                 _15PM08,\n",
    "                 F837A,\n",
    "                 F837C,\n",
    "                 F837B,\n",
    "                 F917_1,\n",
    "                 F840A,\n",
    "                 Bowring2007,\n",
    "                 _17RAT_R35B1,\n",
    "                 F1966,\n",
    "                 _93JP_71JB,\n",
    "                 _93JP_93L,\n",
    "                 _93JP_93K,\n",
    "                 _14RAT_513A]\n",
    "\n",
    "all_dates_dicts = [Lan2020_mean,\n",
    "                   SAM_ET_04_mean,\n",
    "                   SAM_ET_03_mean,\n",
    "                   _15PM06_mean,\n",
    "                   _15PM08_mean,\n",
    "                  F837A_mean,\n",
    "                  F837C_mean,\n",
    "                  F837B_mean,\n",
    "                  F917_1_mean,\n",
    "                  F840A_mean,\n",
    "                  Bowring2007_mean,\n",
    "                  _17RAT_R35B1_mean,\n",
    "                   F1966_mean,\n",
    "                   _93JP_71JB_mean,\n",
    "                   _93JP_93L_mean,\n",
    "                   _93JP_93K_mean,\n",
    "                   _14RAT_513A_mean]\n",
    "\n",
    "zircon_means, zircon_2sigmas, \\\n",
    "include = extract_df_lists(all_dates_dfs)\n",
    "sample_means, sample_2sigmas, colors, \\\n",
    "labels = extract_dict_lists(all_dates_dicts)\n",
    "\n",
    "# zircons\n",
    "fig, ax = plot_dates(zircon_means, zircon_2sigmas, include,\\\n",
    "                     sample_means, sample_2sigmas, colors, labels,\\\n",
    "                     figsize=(13,8), lineweight=2.0, bbox_to_anchor=(1.45,1),legend=False)\n",
    "ax.set_xlim(xlim)\n",
    "ax.set_xticks([])\n",
    "\n",
    "# sturtian start\n",
    "sturt_lower_bound = F840A_mean['mean']\n",
    "sturt_upper_bound = F917_1_mean['mean']\n",
    "\n",
    "rectangle = matplotlib.patches.Rectangle((xlim[0], sturt_upper_bound),\\\n",
    "                                         (xlim[1]-xlim[0]), sturt_upper_bound-sturt_lower_bound, color='#5DADE2', alpha=0.5)\n",
    "ax.add_patch(rectangle)\n",
    "\n",
    "# Franklin main stage\n",
    "franklin_lower_bound = np.median(resampled_min_dates)\n",
    "franklin_upper_bound = np.median(resampled_max_dates)\n",
    "franklin_mean = np.median(resampled_mean_dates)\n",
    "\n",
    "rectangle = matplotlib.patches.Rectangle((xlim[0], franklin_lower_bound),\\\n",
    "                                         (xlim[1]-xlim[0]), franklin_upper_bound-franklin_lower_bound, color='red', alpha=0.1,zorder=-1000)\n",
    "\n",
    "franklin_lower_bound = np.median(resampled_min_dates)\n",
    "franklin_upper_bound = np.median(resampled_max_dates)\n",
    "franklin_mean = np.median(resampled_mean_dates)\n",
    "\n",
    "rectangle = matplotlib.patches.Rectangle((xlim[0], franklin_lower_bound),\\\n",
    "                                         (xlim[1]-xlim[0]), franklin_upper_bound-franklin_lower_bound, color='red', alpha=0.1,zorder=-1000)\n",
    "\n",
    "ax.add_patch(rectangle)\n",
    "#ax.axhline(np.median(resampled_mean_dates), color=Laurentia_pre_glacial_color, lw=0.5)\n",
    "\n",
    "# MC results\n",
    "twinax = ax.twiny()\n",
    "twinax.hist(MC_results, bins=30, histtype='stepfilled', orientation='horizontal', color='darkblue')\n",
    "ax.axhline(MC_97_5,xmin=0,xmax=.08, color='darkblue', lw=0.5, ls='--')\n",
    "twinax.axhline(MC_2_5,xmin=0,xmax=.08,color='darkblue', lw=0.5, ls='--')\n",
    "twinax.set_xlim(0,120000)\n",
    "twinax.set_xticks([])\n",
    "twinax.set_ylim(ylim)\n",
    "\n",
    "twinax2 = ax.twiny()\n",
    "twinax2.hist(resampled_min_dates, bins=30, histtype='stepfilled',  orientation='horizontal', alpha=0.5,\n",
    "         label='resampled minimum dates',color='red')\n",
    "hist_values = twinax2.hist(resampled_mean_dates, bins=30, histtype='stepfilled',  orientation='horizontal', alpha=0.5,\n",
    "         label='resampled mean dates',color='darkred')\n",
    "twinax2.hist(resampled_max_dates, bins=30, histtype='stepfilled',  orientation='horizontal', alpha=0.5,\n",
    "         label='resampled maximum dates',color='red')\n",
    "twinax2.set_xlim(0,np.max(hist_values[0])*18)\n",
    "twinax2.invert_xaxis()\n",
    "twinax2.set_xticks([])\n",
    "twinax.set_ylim(ylim)\n",
    "\n",
    "ax.text(-8,723.5,'pre-glacial\\ndate\\n(South\\nChina)',horizontalalignment='center',bbox=dict(facecolor=South_China_color, alpha=0.5))\n",
    "ax.text(21,723,'pre-glacial\\ndates (Ethiopia)',horizontalalignment='center',bbox=dict(facecolor=Ethiopia_color, alpha=0.5))\n",
    "ax.text(55,720,'pre-glacial\\ndates (Laurentia)',horizontalalignment='center',bbox=dict(facecolor=Laurentia_pre_glacial_color, alpha=0.5))\n",
    "ax.text(88,715,'syn-glacial\\ndates (Laurentia)',horizontalalignment='center',bbox=dict(facecolor=Laurentia_syn_glacial_color, alpha=0.3))\n",
    "#ax.text(120,711.8,'syn-glacial\\ndate (Oman)',horizontalalignment='center',bbox=dict(facecolor=Oman_syn_glacial_color, alpha=0.3))\n",
    "ax.text(155,721.25,'Franklin LIP\\ndates (Laurentia)',horizontalalignment='center',bbox=dict(facecolor=Franklin_color, alpha=0.5))\n",
    "ax.text(xlim[0]+1,715.8,'Sturtian onset\\nestimate from\\nEthiopia',color='darkblue',horizontalalignment='left')\n",
    "ax.text(xlim[1]-1,716.8,'Sturtian onset\\nconstraints from\\nLaurentia',color='#5DADE2',horizontalalignment='right')\n",
    "\n",
    "ax.text(xlim[1]-12,np.median(resampled_mean_dates)-0.45,'$\\it{end}$',color=Franklin_color,horizontalalignment='right',verticalalignment='center')\n",
    "ax.text(xlim[1]-14,np.median(resampled_mean_dates),'$\\it{mean}$',color='darkred',horizontalalignment='right',verticalalignment='center')\n",
    "ax.text(xlim[1]-12,np.median(resampled_mean_dates)+0.45,'$\\it{begin}$',color=Franklin_color,horizontalalignment='right',verticalalignment='center')\n",
    "\n",
    "ax.text(xlim[1]-1,719.6,'Franklin mean\\neruptive stage\\nduration',color=Franklin_color,horizontalalignment='right',verticalalignment='top')\n",
    "\n",
    "line_bottom = franklin_lower_bound - 0.1\n",
    "ax.annotate(\"\", xy=(105, line_bottom), xycoords='data', xytext=(105, line_bottom-1),arrowprops=dict(arrowstyle=\"|-|,widthA=0.5, angleA=0, widthB=0.5, angleB=0\",linewidth=1.5))\n",
    "ax.text(106.5,line_bottom-0.5,\n",
    "        '1 Myr',color='black',horizontalalignment='left',verticalalignment='center')\n",
    "\n",
    "plt.savefig('./code_output/dates.pdf')\n",
    "plt.show(fig)"
   ]
  },
  {
   "cell_type": "code",
   "execution_count": 43,
   "metadata": {},
   "outputs": [
    {
     "name": "stdout",
     "output_type": "stream",
     "text": [
      "The mean lag to youngest pre-glacial date is:\n",
      "1.19\n",
      "with 95% confidence bounds of\n",
      "0.9 to 1.45\n",
      "\n",
      "The mean lag to oldest syn-glacial date is:\n",
      "1.69\n",
      "with 95% confidence bounds of\n",
      "1.21 to 2.15\n",
      "\n",
      "The mean duration is:\n",
      "0.54\n",
      "with 95% confidence bounds of\n",
      "0.26 to 0.86\n"
     ]
    },
    {
     "data": {
      "image/png": "[encoded data removed]",
      "text/plain": [
       "<Figure size 936x288 with 2 Axes>"
      ]
     },
     "metadata": {
      "needs_background": "light"
     },
     "output_type": "display_data"
    }
   ],
   "source": [
    "plt.figure(figsize=(13,4))\n",
    "\n",
    "ax0 = plt.subplot(1,2,1)\n",
    "values = ax0.hist(resampled_lags_pre_date, bins=np.arange(min(resampled_lags_pre_date), max(resampled_lags_pre_date) + 0.02, 0.02), \n",
    "                  histtype='stepfilled', color='darkblue',\n",
    "                  alpha=0.5,label='lag between Franklin LIP and youngest pre-glacial date')\n",
    "histmax = np.max(values[0])\n",
    "ylims = [0,histmax*1.3]\n",
    "\n",
    "lag_mean = np.mean(resampled_lags_pre_date)\n",
    "lag_percentile_2_5 = np.percentile(resampled_lags_pre_date,2.5)\n",
    "lag_percentile_97_5 = np.percentile(resampled_lags_pre_date,97.5)\n",
    "ax0.vlines(x=lag_percentile_2_5,ymin=ylims[0],ymax=histmax,color='darkblue',linestyles='--')\n",
    "ax0.vlines(x=lag_percentile_97_5,ymin=ylims[0],ymax=histmax,color='darkblue',linestyles='--')\n",
    "ax0.set_ylim(ylims[0],ylims[1])\n",
    "ax0.set_yticks([])\n",
    "print('The mean lag to youngest pre-glacial date is:')\n",
    "print(round(lag_mean,2))\n",
    "print('with 95% confidence bounds of')\n",
    "print(str(round(lag_percentile_2_5,2)) + ' to ' + str(round(lag_percentile_97_5,2)))\n",
    "\n",
    "values = ax0.hist(resampled_lags_syn_date, \n",
    "                  bins=np.arange(min(resampled_lags_syn_date), max(resampled_lags_syn_date) + 0.02, 0.02),\n",
    "                  histtype='stepfilled', color='C0',\n",
    "                  alpha=0.5,label='lag between Franklin LIP and oldest syn-glacial date')\n",
    "histmax = np.max(values[0])\n",
    "\n",
    "lag_mean = np.mean(resampled_lags_syn_date)\n",
    "lag_percentile_2_5 = np.percentile(resampled_lags_syn_date,2.5)\n",
    "lag_percentile_97_5 = np.percentile(resampled_lags_syn_date,97.5)\n",
    "ax0.vlines(x=lag_percentile_2_5,ymin=ylims[0],ymax=histmax,color='C0',linestyles='--')\n",
    "ax0.vlines(x=lag_percentile_97_5,ymin=ylims[0],ymax=histmax,color='C0',linestyles='--')\n",
    "ax0.set_xlim(0,2.5)\n",
    "ax0.set_ylim(ylims[0],ylims[1])\n",
    "ax0.set_xlabel('lag (Myr)', fontsize=14)\n",
    "ax0.set_yticks([])\n",
    "print('')\n",
    "print('The mean lag to oldest syn-glacial date is:')\n",
    "print(round(lag_mean,2))\n",
    "print('with 95% confidence bounds of')\n",
    "print(str(round(lag_percentile_2_5,2)) + ' to ' + str(round(lag_percentile_97_5,2)))\n",
    "\n",
    "ax0.legend(loc='upper left')\n",
    "\n",
    "\n",
    "ax1 = plt.subplot(1,2,2)\n",
    "values = ax1.hist(resampled_durations, \n",
    "                  bins=np.arange(min(resampled_durations), max(resampled_durations) + 0.02, 0.02),\n",
    "                  histtype='stepfilled', alpha=0.5, \n",
    "                  color='darkred', label='duration of Franklin LIP main pulse')\n",
    "histmax = np.max(values[0])\n",
    "ylims = [0,histmax*1.25]\n",
    "\n",
    "duration_mean = np.mean(resampled_durations)\n",
    "duration_percentile_2_5 = np.percentile(resampled_durations,2.5)\n",
    "duration_percentile_97_5 = np.percentile(resampled_durations,97.5)\n",
    "\n",
    "ax1.vlines(x=duration_percentile_2_5,ymin=ylims[0],ymax=histmax, color='darkred',linestyles='--')\n",
    "ax1.vlines(x=duration_percentile_97_5,ymin=ylims[0],ymax=histmax, color='darkred',linestyles='--')\n",
    "ax1.set_ylim(ylims[0],ylims[1])\n",
    "ax1.set_xlim(0,2.5)\n",
    "ax1.set_xlabel('duration (Myr)', fontsize=14)\n",
    "ax1.set_yticks([])\n",
    "print('')\n",
    "print('The mean duration is:')\n",
    "print(round(duration_mean,2))\n",
    "print('with 95% confidence bounds of')\n",
    "print(str(round(duration_percentile_2_5,2)) + ' to ' + str(round(duration_percentile_97_5,2)))\n",
    "\n",
    "ax1.legend(loc='upper left')\n",
    "\n",
    "plt.savefig('./code_output/histograms.pdf')\n",
    "plt.show()\n"
   ]
  },
  {
   "cell_type": "markdown",
   "metadata": {},
   "source": [
    "Caption for the figure with both of the previous two figures merged:\n",
    "\n",
    "High-precision U-Pb geochronological constraints on the onset of the Sturtian glaciation and the timing of Franklin LIP eruptions. The top panel is a date bar plot where the vertical bars are individual zircon 206Pb/238U dates and the horizontal black bars are the weighted mean dates with grey boxes showing their uncertainty. Other than the pre-glacial date from South China published in Lan et al. 2020, all dates were developed by CA-ID-TIMS using the same tracer solution so can be compared to one another at the level of their analytical uncertainties which are shown here. Only dates included in weighted mean calculations are shown — excluding dates that were interpreted to have been inherited or suffered from unmitigated lead-loss. Pre-glacial and syn-glacial dates for Laurentia from Macdonald et al. 2010, Cox et al. 2015, and Macdonald et al. 2017 constrain the onset of glaciation to have been between 717.43 ± 0.14 Ma and 716.94 ± 0.24 Ma which is shown with the light blue box stretching across the plot. Pre-glacial dates from Ethiopia are from MacLennan et al. 2018 and lead to estimated ages for Sturtian onset shown with the dark blue histogram on the left of the plot; these estimates are from extrapolating sedimentation rates from underlying dated horizons with uncertainties quantified through Monte Carlo resampling (95% range shown with dashed lines on either side of the histogram). The Ethiopia data are consistent with a ca. 717 Ma onset of the Snowball Earth (MacLennan et al., 2018). U-Pb zircon dates for the Franklin LIP are all from Pu et al. 2022 with the younger 5 dates being associated with the main pulse. These dates and their uncertainty can be used to estimate a duration of the main stage of Franklin LIP activity. This duration is estimated through resampling from the mean and uncertainty of each weighted mean date, determining the minimum and maximum age of these resamples, and calculating the associated duration. This leads to a duration estimate of 540,000 years (95% range of 260,000 to 860,000 years) which is shown as the light red box extending across the plot. The histogram in the lower right plot shows the duration estimates through this approach with the dashed lines shown the 2.5 and 97.5 percentiles. The histograms on the right of the date bar plot labeled \"begin,\" \"mean,\" and \"end\" show the resampled start dates, mean dates and end dates of the main pulse, respectively. The time lag between the end of the main pulse of Franklin volcanism and the onset of the Sturtian Snowball Earth as constrained by existing geochronology can be estimated through comparing these Franklin main pulse end dates to the youngest pre-glacial date (resulting in an estimated lag of 1.19 Myr with a 95% range of 0.90 to 1.45 Myr) or the oldest syn-glacial date (resulting in an estimated lag of 1.69 Ma with 95% range of 1.21 to 2.15 Ma). "
   ]
  },
  {
   "cell_type": "code",
   "execution_count": 44,
   "metadata": {},
   "outputs": [
    {
     "data": {
      "text/plain": [
       "(-0.5, 5.5)"
      ]
     },
     "execution_count": 44,
     "metadata": {},
     "output_type": "execute_result"
    },
    {
     "data": {
      "image/png": "[encoded data removed]",
      "text/plain": [
       "<Figure size 216x576 with 1 Axes>"
      ]
     },
     "metadata": {
      "needs_background": "light"
     },
     "output_type": "display_data"
    }
   ],
   "source": [
    "plt.figure(figsize=(3,8))\n",
    "plt.errorbar(range(0,len(Pu_calculated)),Pu_calculated['mean'].to_list(),\n",
    "             yerr=Pu_calculated['two_sigma'].to_list(),fmt='*',color='crimson',label='Franklin LIP zircon dates (Pu et al. 2022)')\n",
    "plt.ylim(723,714)\n",
    "\n",
    "\n",
    "rectangle = matplotlib.patches.Rectangle((-0.5, 719.08),5, -0.47, color='crimson',alpha=0.4)\n",
    "plt.gca().add_patch(rectangle)\n",
    "rectangle = matplotlib.patches.Rectangle((-0.5, 719.3),5, -0.99, color='crimson',alpha=0.2)\n",
    "plt.gca().add_patch(rectangle)\n",
    "\n",
    "plt.gca().yaxis.tick_right()\n",
    "plt.gca().yaxis.set_ticks_position('both')\n",
    "plt.gca().yaxis.set_label_position(\"right\")\n",
    "plt.gca().set_ylabel('$^{206}$Pb/$^{238}$U date [Ma]',size=18)\n",
    "plt.gca().tick_params(axis='both', which='major', labelsize=16)\n",
    "plt.xticks([])\n",
    "plt.xlim(-0.5,5.5)"
   ]
  },
  {
   "cell_type": "code",
   "execution_count": 45,
   "metadata": {},
   "outputs": [
    {
     "name": "stdout",
     "output_type": "stream",
     "text": [
      "{'mean': 717.4260864753657, 'two_sigma': 0.1377575222401132, 'color': '#A04000', 'label': 'F837B (Laurentia)'}\n",
      "{'mean': 716.9351361641161, 'two_sigma': 0.23874107078365667, 'color': '#01486e', 'label': 'F917_1 (Laurentia)'}\n"
     ]
    }
   ],
   "source": [
    "print(F837B_mean)\n",
    "print(F917_1_mean)"
   ]
  }
 ],
 "metadata": {
  "anaconda-cloud": {},
  "kernelspec": {
   "display_name": "Python 3.9.12 ('base')",
   "language": "python",
   "name": "python3"
  },
  "language_info": {
   "codemirror_mode": {
    "name": "ipython",
    "version": 3
   },
   "file_extension": ".py",
   "mimetype": "text/x-python",
   "name": "python",
   "nbconvert_exporter": "python",
   "pygments_lexer": "ipython3",
   "version": "3.9.12"
  },
  "nav_menu": {},
  "toc": {
   "nav_menu": {
    "height": "48px",
    "width": "252px"
   },
   "number_sections": false,
   "sideBar": true,
   "skip_h1_title": false,
   "title_cell": "Table of Contents",
   "title_sidebar": "Contents",
   "toc_cell": false,
   "toc_position": {
    "height": "648px",
    "left": "0px",
    "right": "1284px",
    "top": "111px",
    "width": "285px"
   },
   "toc_section_display": "block",
   "toc_window_display": true
  },
  "vscode": {
   "interpreter": {
    "hash": "e5f07e329e396bfef14d01cfb3c038f46bc2da10659a9022c958c3d0939fb8c0"
   }
  }
 },
 "nbformat": 4,
 "nbformat_minor": 4
}
